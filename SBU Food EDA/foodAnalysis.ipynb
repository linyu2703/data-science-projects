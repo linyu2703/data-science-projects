{
 "cells": [
  {
   "cell_type": "markdown",
   "id": "9b82dcda-33fc-467d-b95c-0e5f4a079ce9",
   "metadata": {},
   "source": [
    "# Introduction"
   ]
  },
  {
   "cell_type": "markdown",
   "id": "09e2b744",
   "metadata": {},
   "source": [
    "This project involves a comprehensive analysis of over 350 food items from Stony Brook University's Dining Hall, with data meticulously gathered from the university's dining hall website and organized into an Excel spreadsheet. Using Python and relevant libraries, this analysis will extract and examine data from the foods.csv file to offer insights on how students can make informed, healthy dietary choices that align with their nutritional goals. The project will also include the generation of statistical information and visual representations, highlighting the health benefits and drawbacks of various foods available at the dining hall.\n",
    "\n",
    "Important Note: Each food's nutritional value listed is based on a single serving."
   ]
  },
  {
   "cell_type": "markdown",
   "id": "7085c9be-0464-453d-9d48-49f2e0d828b6",
   "metadata": {},
   "source": [
    "## Food and Nutrition"
   ]
  },
  {
   "cell_type": "markdown",
   "id": "1a72f0b4-1214-4c18-9e58-04bfbac96182",
   "metadata": {},
   "source": [
    "Food and nutrition are vital for the body’s overall function, providing the energy and nutrients needed for growth, maintenance, and disease prevention. Macronutrients like carbohydrates, fats, and proteins are essential for fueling bodily processes, building and repairing tissues, and supporting brain health. Calories derived from these nutrients supply the energy necessary for every activity, from basic metabolic functions to complex cognitive tasks. Fats, including cholesterol, play a crucial role in hormone production, brain development, and protecting vital organs, while sodium helps regulate fluid balance, nerve function, and muscle contractions. Fiber, found in carbohydrates, aids digestion, supports a healthy gut, and helps prevent conditions like heart disease and diabetes.\n",
    "\n",
    "Balanced nutrition is key to preventing chronic diseases such as heart disease, diabetes, and obesity. Additionally, mindful eating—paying attention to what and how much we consume—promotes a healthy gut and mental well-being, which is particularly important for students engaged in rigorous academic studies. By understanding and practicing mindful eating, individuals can enhance both their physical health and peace of mind, leading to better overall performance in daily life."
   ]
  },
  {
   "cell_type": "markdown",
   "id": "f95ccda9-8704-49fc-bba4-acc54aeab3e2",
   "metadata": {},
   "source": [
    "## Importing Necessary Libraries"
   ]
  },
  {
   "cell_type": "code",
   "execution_count": 15,
   "id": "5449da33-d72a-4b3f-81b0-cf988c025adc",
   "metadata": {},
   "outputs": [],
   "source": [
    "import pandas as pd\n",
    "import numpy as np\n",
    "import matplotlib.pyplot as plt\n",
    "import seaborn as sns"
   ]
  },
  {
   "cell_type": "markdown",
   "id": "28497e31-efc4-4bc7-93bf-8360982e9fb8",
   "metadata": {},
   "source": [
    "## Cleaning data"
   ]
  },
  {
   "cell_type": "markdown",
   "id": "7d0d9153-1631-45f7-ba48-41d3b2b5416d",
   "metadata": {},
   "source": [
    "Creating a new variable to store the data from the foods CSV file."
   ]
  },
  {
   "cell_type": "code",
   "execution_count": 16,
   "id": "027d5460-18bb-4d8d-9eb5-8899aa57b713",
   "metadata": {},
   "outputs": [
    {
     "data": {
      "text/html": [
       "<div>\n",
       "<style scoped>\n",
       "    .dataframe tbody tr th:only-of-type {\n",
       "        vertical-align: middle;\n",
       "    }\n",
       "\n",
       "    .dataframe tbody tr th {\n",
       "        vertical-align: top;\n",
       "    }\n",
       "\n",
       "    .dataframe thead th {\n",
       "        text-align: right;\n",
       "    }\n",
       "</style>\n",
       "<table border=\"1\" class=\"dataframe\">\n",
       "  <thead>\n",
       "    <tr style=\"text-align: right;\">\n",
       "      <th></th>\n",
       "      <th>Name</th>\n",
       "      <th>Calories</th>\n",
       "      <th>Fat (g)</th>\n",
       "      <th>Cholesterol (mg)</th>\n",
       "      <th>Sodium (mg)</th>\n",
       "      <th>Carbohydrate (g)</th>\n",
       "      <th>Fiber (g)</th>\n",
       "      <th>Protein (g)</th>\n",
       "      <th>Type</th>\n",
       "    </tr>\n",
       "  </thead>\n",
       "  <tbody>\n",
       "    <tr>\n",
       "      <th>0</th>\n",
       "      <td>Scrambled eggs with cream and butter</td>\n",
       "      <td>670</td>\n",
       "      <td>19.0</td>\n",
       "      <td>582</td>\n",
       "      <td>460</td>\n",
       "      <td>1</td>\n",
       "      <td>0</td>\n",
       "      <td>19</td>\n",
       "      <td>Breakfast</td>\n",
       "    </tr>\n",
       "    <tr>\n",
       "      <th>1</th>\n",
       "      <td>Scrambled egg whites</td>\n",
       "      <td>70</td>\n",
       "      <td>0.0</td>\n",
       "      <td>0</td>\n",
       "      <td>220</td>\n",
       "      <td>1</td>\n",
       "      <td>0</td>\n",
       "      <td>14</td>\n",
       "      <td>Breakfast</td>\n",
       "    </tr>\n",
       "    <tr>\n",
       "      <th>2</th>\n",
       "      <td>Cheesy tofu fajita scramble</td>\n",
       "      <td>180</td>\n",
       "      <td>12.0</td>\n",
       "      <td>2</td>\n",
       "      <td>330</td>\n",
       "      <td>6</td>\n",
       "      <td>4</td>\n",
       "      <td>14</td>\n",
       "      <td>Breakfast</td>\n",
       "    </tr>\n",
       "    <tr>\n",
       "      <th>3</th>\n",
       "      <td>Pork bacon</td>\n",
       "      <td>60</td>\n",
       "      <td>4.5</td>\n",
       "      <td>13</td>\n",
       "      <td>220</td>\n",
       "      <td>0</td>\n",
       "      <td>0</td>\n",
       "      <td>4</td>\n",
       "      <td>Breakfast</td>\n",
       "    </tr>\n",
       "    <tr>\n",
       "      <th>4</th>\n",
       "      <td>Asparagus cheddar frittata</td>\n",
       "      <td>240</td>\n",
       "      <td>17.0</td>\n",
       "      <td>271</td>\n",
       "      <td>510</td>\n",
       "      <td>6</td>\n",
       "      <td>2</td>\n",
       "      <td>16</td>\n",
       "      <td>Breakfast</td>\n",
       "    </tr>\n",
       "    <tr>\n",
       "      <th>...</th>\n",
       "      <td>...</td>\n",
       "      <td>...</td>\n",
       "      <td>...</td>\n",
       "      <td>...</td>\n",
       "      <td>...</td>\n",
       "      <td>...</td>\n",
       "      <td>...</td>\n",
       "      <td>...</td>\n",
       "      <td>...</td>\n",
       "    </tr>\n",
       "    <tr>\n",
       "      <th>386</th>\n",
       "      <td>Chicken noodle soup</td>\n",
       "      <td>250</td>\n",
       "      <td>3.0</td>\n",
       "      <td>56</td>\n",
       "      <td>1500</td>\n",
       "      <td>39</td>\n",
       "      <td>4</td>\n",
       "      <td>16</td>\n",
       "      <td>Lunch/Dinner</td>\n",
       "    </tr>\n",
       "    <tr>\n",
       "      <th>387</th>\n",
       "      <td>Broccoli and cheddar cheese soup</td>\n",
       "      <td>220</td>\n",
       "      <td>17.0</td>\n",
       "      <td>41</td>\n",
       "      <td>720</td>\n",
       "      <td>13</td>\n",
       "      <td>1</td>\n",
       "      <td>5</td>\n",
       "      <td>Lunch/Dinner</td>\n",
       "    </tr>\n",
       "    <tr>\n",
       "      <th>388</th>\n",
       "      <td>Tomato basil bisque soup</td>\n",
       "      <td>160</td>\n",
       "      <td>7.0</td>\n",
       "      <td>25</td>\n",
       "      <td>250</td>\n",
       "      <td>20</td>\n",
       "      <td>1</td>\n",
       "      <td>4</td>\n",
       "      <td>Lunch/Dinner</td>\n",
       "    </tr>\n",
       "    <tr>\n",
       "      <th>389</th>\n",
       "      <td>Fresh herb croutons soup</td>\n",
       "      <td>110</td>\n",
       "      <td>6.0</td>\n",
       "      <td>0</td>\n",
       "      <td>160</td>\n",
       "      <td>12</td>\n",
       "      <td>1</td>\n",
       "      <td>2</td>\n",
       "      <td>Lunch/Dinner</td>\n",
       "    </tr>\n",
       "    <tr>\n",
       "      <th>390</th>\n",
       "      <td>Cajun chicken penne</td>\n",
       "      <td>420</td>\n",
       "      <td>16.0</td>\n",
       "      <td>22</td>\n",
       "      <td>1100</td>\n",
       "      <td>51</td>\n",
       "      <td>4</td>\n",
       "      <td>18</td>\n",
       "      <td>Lunch/Dinner</td>\n",
       "    </tr>\n",
       "  </tbody>\n",
       "</table>\n",
       "<p>391 rows × 9 columns</p>\n",
       "</div>"
      ],
      "text/plain": [
       "                                     Name  Calories  Fat (g) Cholesterol (mg)  \\\n",
       "0    Scrambled eggs with cream and butter       670     19.0              582   \n",
       "1                    Scrambled egg whites        70      0.0                0   \n",
       "2             Cheesy tofu fajita scramble       180     12.0                2   \n",
       "3                              Pork bacon        60      4.5               13   \n",
       "4              Asparagus cheddar frittata       240     17.0              271   \n",
       "..                                    ...       ...      ...              ...   \n",
       "386                   Chicken noodle soup       250      3.0               56   \n",
       "387      Broccoli and cheddar cheese soup       220     17.0               41   \n",
       "388              Tomato basil bisque soup       160      7.0               25   \n",
       "389              Fresh herb croutons soup       110      6.0                0   \n",
       "390                   Cajun chicken penne       420     16.0               22   \n",
       "\n",
       "     Sodium (mg)  Carbohydrate (g) Fiber (g)  Protein (g)          Type  \n",
       "0            460                 1         0           19     Breakfast  \n",
       "1            220                 1         0           14     Breakfast  \n",
       "2            330                 6         4           14     Breakfast  \n",
       "3            220                 0         0            4     Breakfast  \n",
       "4            510                 6         2           16     Breakfast  \n",
       "..           ...               ...       ...          ...           ...  \n",
       "386         1500                39         4           16  Lunch/Dinner  \n",
       "387          720                13         1            5  Lunch/Dinner  \n",
       "388          250                20         1            4  Lunch/Dinner  \n",
       "389          160                12         1            2  Lunch/Dinner  \n",
       "390         1100                51         4           18  Lunch/Dinner  \n",
       "\n",
       "[391 rows x 9 columns]"
      ]
     },
     "execution_count": 16,
     "metadata": {},
     "output_type": "execute_result"
    }
   ],
   "source": [
    "food = pd.read_csv(\"foods.csv\")\n",
    "food"
   ]
  },
  {
   "cell_type": "markdown",
   "id": "a5db4125-503a-4ddb-ac75-74034d9f9bc4",
   "metadata": {},
   "source": [
    "Performing a quick overview of the data to ensure values are displayed correctly from top to bottom."
   ]
  },
  {
   "cell_type": "code",
   "execution_count": 17,
   "id": "f4426d27",
   "metadata": {},
   "outputs": [
    {
     "data": {
      "text/html": [
       "<div>\n",
       "<style scoped>\n",
       "    .dataframe tbody tr th:only-of-type {\n",
       "        vertical-align: middle;\n",
       "    }\n",
       "\n",
       "    .dataframe tbody tr th {\n",
       "        vertical-align: top;\n",
       "    }\n",
       "\n",
       "    .dataframe thead th {\n",
       "        text-align: right;\n",
       "    }\n",
       "</style>\n",
       "<table border=\"1\" class=\"dataframe\">\n",
       "  <thead>\n",
       "    <tr style=\"text-align: right;\">\n",
       "      <th></th>\n",
       "      <th>Name</th>\n",
       "      <th>Calories</th>\n",
       "      <th>Fat (g)</th>\n",
       "      <th>Cholesterol (mg)</th>\n",
       "      <th>Sodium (mg)</th>\n",
       "      <th>Carbohydrate (g)</th>\n",
       "      <th>Fiber (g)</th>\n",
       "      <th>Protein (g)</th>\n",
       "      <th>Type</th>\n",
       "    </tr>\n",
       "  </thead>\n",
       "  <tbody>\n",
       "    <tr>\n",
       "      <th>0</th>\n",
       "      <td>Scrambled eggs with cream and butter</td>\n",
       "      <td>670</td>\n",
       "      <td>19.0</td>\n",
       "      <td>582</td>\n",
       "      <td>460</td>\n",
       "      <td>1</td>\n",
       "      <td>0</td>\n",
       "      <td>19</td>\n",
       "      <td>Breakfast</td>\n",
       "    </tr>\n",
       "    <tr>\n",
       "      <th>1</th>\n",
       "      <td>Scrambled egg whites</td>\n",
       "      <td>70</td>\n",
       "      <td>0.0</td>\n",
       "      <td>0</td>\n",
       "      <td>220</td>\n",
       "      <td>1</td>\n",
       "      <td>0</td>\n",
       "      <td>14</td>\n",
       "      <td>Breakfast</td>\n",
       "    </tr>\n",
       "    <tr>\n",
       "      <th>2</th>\n",
       "      <td>Cheesy tofu fajita scramble</td>\n",
       "      <td>180</td>\n",
       "      <td>12.0</td>\n",
       "      <td>2</td>\n",
       "      <td>330</td>\n",
       "      <td>6</td>\n",
       "      <td>4</td>\n",
       "      <td>14</td>\n",
       "      <td>Breakfast</td>\n",
       "    </tr>\n",
       "    <tr>\n",
       "      <th>3</th>\n",
       "      <td>Pork bacon</td>\n",
       "      <td>60</td>\n",
       "      <td>4.5</td>\n",
       "      <td>13</td>\n",
       "      <td>220</td>\n",
       "      <td>0</td>\n",
       "      <td>0</td>\n",
       "      <td>4</td>\n",
       "      <td>Breakfast</td>\n",
       "    </tr>\n",
       "    <tr>\n",
       "      <th>4</th>\n",
       "      <td>Asparagus cheddar frittata</td>\n",
       "      <td>240</td>\n",
       "      <td>17.0</td>\n",
       "      <td>271</td>\n",
       "      <td>510</td>\n",
       "      <td>6</td>\n",
       "      <td>2</td>\n",
       "      <td>16</td>\n",
       "      <td>Breakfast</td>\n",
       "    </tr>\n",
       "  </tbody>\n",
       "</table>\n",
       "</div>"
      ],
      "text/plain": [
       "                                   Name  Calories  Fat (g) Cholesterol (mg)  \\\n",
       "0  Scrambled eggs with cream and butter       670     19.0              582   \n",
       "1                  Scrambled egg whites        70      0.0                0   \n",
       "2           Cheesy tofu fajita scramble       180     12.0                2   \n",
       "3                            Pork bacon        60      4.5               13   \n",
       "4            Asparagus cheddar frittata       240     17.0              271   \n",
       "\n",
       "   Sodium (mg)  Carbohydrate (g) Fiber (g)  Protein (g)       Type  \n",
       "0          460                 1         0           19  Breakfast  \n",
       "1          220                 1         0           14  Breakfast  \n",
       "2          330                 6         4           14  Breakfast  \n",
       "3          220                 0         0            4  Breakfast  \n",
       "4          510                 6         2           16  Breakfast  "
      ]
     },
     "execution_count": 17,
     "metadata": {},
     "output_type": "execute_result"
    }
   ],
   "source": [
    "food.head()"
   ]
  },
  {
   "cell_type": "code",
   "execution_count": 18,
   "id": "4c27c783-d3d3-4da0-9fdb-edd68ad60914",
   "metadata": {},
   "outputs": [
    {
     "data": {
      "text/html": [
       "<div>\n",
       "<style scoped>\n",
       "    .dataframe tbody tr th:only-of-type {\n",
       "        vertical-align: middle;\n",
       "    }\n",
       "\n",
       "    .dataframe tbody tr th {\n",
       "        vertical-align: top;\n",
       "    }\n",
       "\n",
       "    .dataframe thead th {\n",
       "        text-align: right;\n",
       "    }\n",
       "</style>\n",
       "<table border=\"1\" class=\"dataframe\">\n",
       "  <thead>\n",
       "    <tr style=\"text-align: right;\">\n",
       "      <th></th>\n",
       "      <th>Name</th>\n",
       "      <th>Calories</th>\n",
       "      <th>Fat (g)</th>\n",
       "      <th>Cholesterol (mg)</th>\n",
       "      <th>Sodium (mg)</th>\n",
       "      <th>Carbohydrate (g)</th>\n",
       "      <th>Fiber (g)</th>\n",
       "      <th>Protein (g)</th>\n",
       "      <th>Type</th>\n",
       "    </tr>\n",
       "  </thead>\n",
       "  <tbody>\n",
       "    <tr>\n",
       "      <th>386</th>\n",
       "      <td>Chicken noodle soup</td>\n",
       "      <td>250</td>\n",
       "      <td>3.0</td>\n",
       "      <td>56</td>\n",
       "      <td>1500</td>\n",
       "      <td>39</td>\n",
       "      <td>4</td>\n",
       "      <td>16</td>\n",
       "      <td>Lunch/Dinner</td>\n",
       "    </tr>\n",
       "    <tr>\n",
       "      <th>387</th>\n",
       "      <td>Broccoli and cheddar cheese soup</td>\n",
       "      <td>220</td>\n",
       "      <td>17.0</td>\n",
       "      <td>41</td>\n",
       "      <td>720</td>\n",
       "      <td>13</td>\n",
       "      <td>1</td>\n",
       "      <td>5</td>\n",
       "      <td>Lunch/Dinner</td>\n",
       "    </tr>\n",
       "    <tr>\n",
       "      <th>388</th>\n",
       "      <td>Tomato basil bisque soup</td>\n",
       "      <td>160</td>\n",
       "      <td>7.0</td>\n",
       "      <td>25</td>\n",
       "      <td>250</td>\n",
       "      <td>20</td>\n",
       "      <td>1</td>\n",
       "      <td>4</td>\n",
       "      <td>Lunch/Dinner</td>\n",
       "    </tr>\n",
       "    <tr>\n",
       "      <th>389</th>\n",
       "      <td>Fresh herb croutons soup</td>\n",
       "      <td>110</td>\n",
       "      <td>6.0</td>\n",
       "      <td>0</td>\n",
       "      <td>160</td>\n",
       "      <td>12</td>\n",
       "      <td>1</td>\n",
       "      <td>2</td>\n",
       "      <td>Lunch/Dinner</td>\n",
       "    </tr>\n",
       "    <tr>\n",
       "      <th>390</th>\n",
       "      <td>Cajun chicken penne</td>\n",
       "      <td>420</td>\n",
       "      <td>16.0</td>\n",
       "      <td>22</td>\n",
       "      <td>1100</td>\n",
       "      <td>51</td>\n",
       "      <td>4</td>\n",
       "      <td>18</td>\n",
       "      <td>Lunch/Dinner</td>\n",
       "    </tr>\n",
       "  </tbody>\n",
       "</table>\n",
       "</div>"
      ],
      "text/plain": [
       "                                 Name  Calories  Fat (g) Cholesterol (mg)  \\\n",
       "386               Chicken noodle soup       250      3.0               56   \n",
       "387  Broccoli and cheddar cheese soup       220     17.0               41   \n",
       "388          Tomato basil bisque soup       160      7.0               25   \n",
       "389          Fresh herb croutons soup       110      6.0                0   \n",
       "390               Cajun chicken penne       420     16.0               22   \n",
       "\n",
       "     Sodium (mg)  Carbohydrate (g) Fiber (g)  Protein (g)          Type  \n",
       "386         1500                39         4           16  Lunch/Dinner  \n",
       "387          720                13         1            5  Lunch/Dinner  \n",
       "388          250                20         1            4  Lunch/Dinner  \n",
       "389          160                12         1            2  Lunch/Dinner  \n",
       "390         1100                51         4           18  Lunch/Dinner  "
      ]
     },
     "execution_count": 18,
     "metadata": {},
     "output_type": "execute_result"
    }
   ],
   "source": [
    "food.tail()"
   ]
  },
  {
   "cell_type": "markdown",
   "id": "2ba18e89-c8a8-40d1-8867-532180c8363f",
   "metadata": {},
   "source": [
    "Fetching the initial dimensions of the data in terms of rows/columns and grasping general information about the DataFrame."
   ]
  },
  {
   "cell_type": "code",
   "execution_count": 19,
   "id": "6969c9fc",
   "metadata": {},
   "outputs": [
    {
     "data": {
      "text/plain": [
       "<bound method DataFrame.info of                                      Name  Calories  Fat (g) Cholesterol (mg)  \\\n",
       "0    Scrambled eggs with cream and butter       670     19.0              582   \n",
       "1                    Scrambled egg whites        70      0.0                0   \n",
       "2             Cheesy tofu fajita scramble       180     12.0                2   \n",
       "3                              Pork bacon        60      4.5               13   \n",
       "4              Asparagus cheddar frittata       240     17.0              271   \n",
       "..                                    ...       ...      ...              ...   \n",
       "386                   Chicken noodle soup       250      3.0               56   \n",
       "387      Broccoli and cheddar cheese soup       220     17.0               41   \n",
       "388              Tomato basil bisque soup       160      7.0               25   \n",
       "389              Fresh herb croutons soup       110      6.0                0   \n",
       "390                   Cajun chicken penne       420     16.0               22   \n",
       "\n",
       "     Sodium (mg)  Carbohydrate (g) Fiber (g)  Protein (g)          Type  \n",
       "0            460                 1         0           19     Breakfast  \n",
       "1            220                 1         0           14     Breakfast  \n",
       "2            330                 6         4           14     Breakfast  \n",
       "3            220                 0         0            4     Breakfast  \n",
       "4            510                 6         2           16     Breakfast  \n",
       "..           ...               ...       ...          ...           ...  \n",
       "386         1500                39         4           16  Lunch/Dinner  \n",
       "387          720                13         1            5  Lunch/Dinner  \n",
       "388          250                20         1            4  Lunch/Dinner  \n",
       "389          160                12         1            2  Lunch/Dinner  \n",
       "390         1100                51         4           18  Lunch/Dinner  \n",
       "\n",
       "[391 rows x 9 columns]>"
      ]
     },
     "execution_count": 19,
     "metadata": {},
     "output_type": "execute_result"
    }
   ],
   "source": [
    "food.shape\n",
    "food.info"
   ]
  },
  {
   "cell_type": "markdown",
   "id": "9ad38196",
   "metadata": {},
   "source": [
    "276 rows of food entries and 5 columns of categories (name, calories, carbs, protein, type)."
   ]
  },
  {
   "cell_type": "markdown",
   "id": "bbe4f51f-176f-4b34-bfe0-949447622bc0",
   "metadata": {},
   "source": [
    "Replacing any 'n/a' values with 0."
   ]
  },
  {
   "cell_type": "code",
   "execution_count": 20,
   "id": "b613486e-ed69-4e86-b7a5-0a2eb992fdae",
   "metadata": {},
   "outputs": [],
   "source": [
    "food = food.replace(\"n/a\", 0)"
   ]
  },
  {
   "cell_type": "markdown",
   "id": "af7decc7-6dba-4e41-9871-d4797b7eb563",
   "metadata": {},
   "source": [
    "Converting the datatypes of columns such as calories, fat, cholesterol, sodium, carbohydrates, fiber, and protein to numeric integers."
   ]
  },
  {
   "cell_type": "code",
   "execution_count": 21,
   "id": "d59ffa23-2f56-4b96-81f6-4009ad493cd6",
   "metadata": {},
   "outputs": [
    {
     "ename": "ValueError",
     "evalue": "Unable to parse string \"Na\" at position 21",
     "output_type": "error",
     "traceback": [
      "\u001b[0;31m---------------------------------------------------------------------------\u001b[0m",
      "\u001b[0;31mValueError\u001b[0m                                Traceback (most recent call last)",
      "File \u001b[0;32mlib.pyx:2391\u001b[0m, in \u001b[0;36mpandas._libs.lib.maybe_convert_numeric\u001b[0;34m()\u001b[0m\n",
      "\u001b[0;31mValueError\u001b[0m: Unable to parse string \"Na\"",
      "\nDuring handling of the above exception, another exception occurred:\n",
      "\u001b[0;31mValueError\u001b[0m                                Traceback (most recent call last)",
      "Cell \u001b[0;32mIn[21], line 3\u001b[0m\n\u001b[1;32m      1\u001b[0m food[\u001b[38;5;124m\"\u001b[39m\u001b[38;5;124mCalories\u001b[39m\u001b[38;5;124m\"\u001b[39m] \u001b[38;5;241m=\u001b[39m pd\u001b[38;5;241m.\u001b[39mto_numeric(food[\u001b[38;5;124m\"\u001b[39m\u001b[38;5;124mCalories\u001b[39m\u001b[38;5;124m\"\u001b[39m])\n\u001b[1;32m      2\u001b[0m food[\u001b[38;5;124m\"\u001b[39m\u001b[38;5;124mFat (g)\u001b[39m\u001b[38;5;124m\"\u001b[39m] \u001b[38;5;241m=\u001b[39m pd\u001b[38;5;241m.\u001b[39mto_numeric(food[\u001b[38;5;124m\"\u001b[39m\u001b[38;5;124mFat (g)\u001b[39m\u001b[38;5;124m\"\u001b[39m])\n\u001b[0;32m----> 3\u001b[0m food[\u001b[38;5;124m\"\u001b[39m\u001b[38;5;124mCholesterol (mg)\u001b[39m\u001b[38;5;124m\"\u001b[39m] \u001b[38;5;241m=\u001b[39m pd\u001b[38;5;241m.\u001b[39mto_numeric(food[\u001b[38;5;124m\"\u001b[39m\u001b[38;5;124mCholesterol (mg)\u001b[39m\u001b[38;5;124m\"\u001b[39m])\n\u001b[1;32m      4\u001b[0m food[\u001b[38;5;124m\"\u001b[39m\u001b[38;5;124mSodium (mg)\u001b[39m\u001b[38;5;124m\"\u001b[39m] \u001b[38;5;241m=\u001b[39m pd\u001b[38;5;241m.\u001b[39mto_numeric(food[\u001b[38;5;124m\"\u001b[39m\u001b[38;5;124mSodium (mg)\u001b[39m\u001b[38;5;124m\"\u001b[39m])\n\u001b[1;32m      5\u001b[0m food[\u001b[38;5;124m\"\u001b[39m\u001b[38;5;124mCarbohydrate (g)\u001b[39m\u001b[38;5;124m\"\u001b[39m] \u001b[38;5;241m=\u001b[39m pd\u001b[38;5;241m.\u001b[39mto_numeric(food[\u001b[38;5;124m\"\u001b[39m\u001b[38;5;124mCarbohydrate (g)\u001b[39m\u001b[38;5;124m\"\u001b[39m])\n",
      "File \u001b[0;32m/opt/anaconda3/lib/python3.12/site-packages/pandas/core/tools/numeric.py:232\u001b[0m, in \u001b[0;36mto_numeric\u001b[0;34m(arg, errors, downcast, dtype_backend)\u001b[0m\n\u001b[1;32m    230\u001b[0m coerce_numeric \u001b[38;5;241m=\u001b[39m errors \u001b[38;5;129;01mnot\u001b[39;00m \u001b[38;5;129;01min\u001b[39;00m (\u001b[38;5;124m\"\u001b[39m\u001b[38;5;124mignore\u001b[39m\u001b[38;5;124m\"\u001b[39m, \u001b[38;5;124m\"\u001b[39m\u001b[38;5;124mraise\u001b[39m\u001b[38;5;124m\"\u001b[39m)\n\u001b[1;32m    231\u001b[0m \u001b[38;5;28;01mtry\u001b[39;00m:\n\u001b[0;32m--> 232\u001b[0m     values, new_mask \u001b[38;5;241m=\u001b[39m lib\u001b[38;5;241m.\u001b[39mmaybe_convert_numeric(  \u001b[38;5;66;03m# type: ignore[call-overload]\u001b[39;00m\n\u001b[1;32m    233\u001b[0m         values,\n\u001b[1;32m    234\u001b[0m         \u001b[38;5;28mset\u001b[39m(),\n\u001b[1;32m    235\u001b[0m         coerce_numeric\u001b[38;5;241m=\u001b[39mcoerce_numeric,\n\u001b[1;32m    236\u001b[0m         convert_to_masked_nullable\u001b[38;5;241m=\u001b[39mdtype_backend \u001b[38;5;129;01mis\u001b[39;00m \u001b[38;5;129;01mnot\u001b[39;00m lib\u001b[38;5;241m.\u001b[39mno_default\n\u001b[1;32m    237\u001b[0m         \u001b[38;5;129;01mor\u001b[39;00m \u001b[38;5;28misinstance\u001b[39m(values_dtype, StringDtype)\n\u001b[1;32m    238\u001b[0m         \u001b[38;5;129;01mand\u001b[39;00m \u001b[38;5;129;01mnot\u001b[39;00m values_dtype\u001b[38;5;241m.\u001b[39mstorage \u001b[38;5;241m==\u001b[39m \u001b[38;5;124m\"\u001b[39m\u001b[38;5;124mpyarrow_numpy\u001b[39m\u001b[38;5;124m\"\u001b[39m,\n\u001b[1;32m    239\u001b[0m     )\n\u001b[1;32m    240\u001b[0m \u001b[38;5;28;01mexcept\u001b[39;00m (\u001b[38;5;167;01mValueError\u001b[39;00m, \u001b[38;5;167;01mTypeError\u001b[39;00m):\n\u001b[1;32m    241\u001b[0m     \u001b[38;5;28;01mif\u001b[39;00m errors \u001b[38;5;241m==\u001b[39m \u001b[38;5;124m\"\u001b[39m\u001b[38;5;124mraise\u001b[39m\u001b[38;5;124m\"\u001b[39m:\n",
      "File \u001b[0;32mlib.pyx:2433\u001b[0m, in \u001b[0;36mpandas._libs.lib.maybe_convert_numeric\u001b[0;34m()\u001b[0m\n",
      "\u001b[0;31mValueError\u001b[0m: Unable to parse string \"Na\" at position 21"
     ]
    }
   ],
   "source": [
    "food[\"Calories\"] = pd.to_numeric(food[\"Calories\"])\n",
    "food[\"Fat (g)\"] = pd.to_numeric(food[\"Fat (g)\"])\n",
    "food[\"Cholesterol (mg)\"] = pd.to_numeric(food[\"Cholesterol (mg)\"])\n",
    "food[\"Sodium (mg)\"] = pd.to_numeric(food[\"Sodium (mg)\"])\n",
    "food[\"Carbohydrate (g)\"] = pd.to_numeric(food[\"Carbohydrate (g)\"])\n",
    "food[\"Fiber (g)\"] = pd.to_numeric(food[\"Fiber (g)\"])\n",
    "food[\"Protein (g)\"] = pd.to_numeric(food[\"Protein (g)\"])\n",
    "food.dtypes"
   ]
  },
  {
   "cell_type": "markdown",
   "id": "3a928d30-2e53-4a97-bae8-f45be8bdf1bf",
   "metadata": {},
   "source": [
    "Assessing data quality to identify any remaining nulls or 'n/a' values."
   ]
  },
  {
   "cell_type": "code",
   "execution_count": null,
   "id": "c99cf3c3-8b0c-41f7-ab78-dd122b4008d7",
   "metadata": {},
   "outputs": [],
   "source": [
    "print(food.isnull().any())\n",
    "print(food.describe())\n",
    "\n",
    "print(food[food[\"Cholesterol (mg)\"] == \"n/a\"])\n",
    "print(food[food[\"Fiber (g)\"] == \"n/a\"])\n",
    "#No more \"n/a\" values in columns.\n"
   ]
  },
  {
   "cell_type": "markdown",
   "id": "768d5b2f-a4bc-4a82-b991-00c6ad3bdd34",
   "metadata": {},
   "source": [
    "Removing rows with null values, reducing the dataset to 362 rows."
   ]
  },
  {
   "cell_type": "code",
   "execution_count": null,
   "id": "424eca77-60ab-4420-b564-6428b38caad2",
   "metadata": {},
   "outputs": [],
   "source": [
    "food.dropna()"
   ]
  },
  {
   "cell_type": "markdown",
   "id": "d332aaf8-d546-4edf-8195-f58c323b4249",
   "metadata": {},
   "source": [
    "## Data Visualization and Analysis"
   ]
  },
  {
   "cell_type": "code",
   "execution_count": null,
   "id": "956d4f2a-d945-42b5-8139-e2cf8555b52e",
   "metadata": {},
   "outputs": [],
   "source": [
    "f, axes = plt.subplots(2, 2, figsize=(10, 10), sharex=True, sharey=True)\n",
    "\n",
    "s = np.linspace(0, 3, 10)\n",
    "cmap = sns.cubehelix_palette(start=0.0, light=1, as_cmap=True)\n",
    "\n",
    "sns.kdeplot(x=food['Carbohydrate (g)'], y=food['Protein (g)'], cmap=cmap, fill=True, ax=axes[0, 0])\n",
    "axes[0, 0].set(xlim=(-10, 50), ylim=(-30, 70), title='Carbs and Protein')\n",
    "\n",
    "cmap = sns.cubehelix_palette(start=0.25, light=1, as_cmap=True)\n",
    "\n",
    "sns.kdeplot(x=food['Fat (g)'], y=food['Carbohydrate (g)'], fill=True, ax=axes[0, 1])\n",
    "axes[0, 1].set(xlim=(-10, 50), ylim=(-30, 70), title='Carbs and Fat')\n",
    "\n",
    "cmap = sns.cubehelix_palette(start=0.45, light=1, as_cmap=True)\n",
    "\n",
    "sns.kdeplot(x=food['Fiber (g)'], y=food['Fat (g)'], fill=True, ax=axes[1, 0])\n",
    "axes[1, 0].set(xlim=(-10, 50), ylim=(-30, 70), title='Fiber and Fat')\n",
    "\n",
    "cmap = sns.cubehelix_palette(start=0.56, light=1, as_cmap=True)\n",
    "\n",
    "# Access the correct subplot index [1, 1] instead of [1, 2]\n",
    "sns.kdeplot(x=food['Carbohydrate (g)'], y=food['Calories'], fill=True, ax=axes[1, 1])\n",
    "axes[1, 1].set(xlim=(-10, 100), ylim=(-30, 70), title='Calories and Carbs')\n",
    "\n",
    "f.tight_layout()\n"
   ]
  },
  {
   "cell_type": "markdown",
   "id": "c2a419b1-4017-4a54-a9ae-c88cefd25582",
   "metadata": {},
   "source": [
    "## Breakdown of Breakfast"
   ]
  },
  {
   "cell_type": "markdown",
   "id": "605a91de",
   "metadata": {},
   "source": [
    "Displaying all the different types of breakfast foods served in the SBU dining hall, along with their corresponding nutritional values."
   ]
  },
  {
   "cell_type": "code",
   "execution_count": null,
   "id": "64d09092",
   "metadata": {},
   "outputs": [],
   "source": [
    "breakfast = food.loc[food[\"Type\"]==\"Breakfast\"]\n",
    "breakfast"
   ]
  },
  {
   "cell_type": "code",
   "execution_count": null,
   "id": "990c7c1a",
   "metadata": {},
   "outputs": [],
   "source": [
    "breakfast_sort1 = breakfast.sort_values(\"Protein (g)\", ascending=False)\n",
    "breakfast_sort1.head()"
   ]
  },
  {
   "cell_type": "markdown",
   "id": "e3c08144",
   "metadata": {},
   "source": [
    "Top 5 breakfast foods with the highest amount of protein, in grams."
   ]
  },
  {
   "cell_type": "code",
   "execution_count": null,
   "id": "07227edd",
   "metadata": {},
   "outputs": [],
   "source": [
    "breakfast_sort1.tail()"
   ]
  },
  {
   "cell_type": "markdown",
   "id": "04d54a6a",
   "metadata": {},
   "source": [
    "Top 5 breakfast foods with the least amount of protein, in grams."
   ]
  },
  {
   "cell_type": "code",
   "execution_count": null,
   "id": "61ab7c4a",
   "metadata": {},
   "outputs": [],
   "source": [
    "plt.bar(breakfast_sort1[\"Name\"], breakfast_sort1[\"Protein (g)\"], color = \"g\")\n",
    "plt.xticks(rotation = 90)\n",
    "plt.show()"
   ]
  },
  {
   "cell_type": "markdown",
   "id": "a5ab11e6",
   "metadata": {},
   "source": [
    "Bar graph representing breakfast foods based on protein level in a descending fashion. Foods like {ham and cheddar scramble, scrambled eggs with cream and butter, and sausage egg and cheese croissant} appears to provide the most amount of protein. While foods like {breakfast potatoes, tater tots, and blueberry compotes} provide the least amount of protein."
   ]
  },
  {
   "cell_type": "code",
   "execution_count": null,
   "id": "19913ee3",
   "metadata": {},
   "outputs": [],
   "source": [
    "breakfast_sort2 = breakfast.sort_values(\"Carbohydrate (g)\", ascending=False)\n",
    "breakfast_sort2.head()"
   ]
  },
  {
   "cell_type": "markdown",
   "id": "2ece7a8d",
   "metadata": {},
   "source": [
    "Top 5 breakfast foods with the most amount of carbs, in grams."
   ]
  },
  {
   "cell_type": "code",
   "execution_count": null,
   "id": "e105e40c",
   "metadata": {},
   "outputs": [],
   "source": [
    "breakfast_sort2.tail()"
   ]
  },
  {
   "cell_type": "markdown",
   "id": "d2a666ee",
   "metadata": {},
   "source": [
    "Top 5 breakfast foods with the least amount of carbs, in grams."
   ]
  },
  {
   "cell_type": "code",
   "execution_count": null,
   "id": "c5cec08a",
   "metadata": {},
   "outputs": [],
   "source": [
    "plt.plot(breakfast_sort2[\"Name\"], breakfast_sort2[\"Carbohydrate (g)\"])\n",
    "plt.xticks(rotation = 90)\n",
    "plt.show()"
   ]
  },
  {
   "cell_type": "markdown",
   "id": "bd1acc1b",
   "metadata": {},
   "source": [
    "Line graph representing breakfast foods based on carb level, shown in a negative slope. Foods like {belgian waffle, blueberry pancakes, and french toast sticks} appear to have the most amount of carbs. While foods like {scrambled eggs with cream and butter, bacon, and chicken breakfast sausage patty} have the least amount of carbs."
   ]
  },
  {
   "cell_type": "code",
   "execution_count": null,
   "id": "888ab3b3",
   "metadata": {},
   "outputs": [],
   "source": [
    "breakfast_sort3 = breakfast.sort_values(\"Calories\", ascending=False)\n",
    "breakfast_sort3.head()"
   ]
  },
  {
   "cell_type": "markdown",
   "id": "0f98c85d",
   "metadata": {},
   "source": [
    "Top 5 breakfast foods with the highest amount of calories."
   ]
  },
  {
   "cell_type": "code",
   "execution_count": null,
   "id": "3a668fc9",
   "metadata": {},
   "outputs": [],
   "source": [
    "breakfast_sort3.tail()"
   ]
  },
  {
   "cell_type": "markdown",
   "id": "8e7b2cfd",
   "metadata": {},
   "source": [
    "Top 5 breakfast foods with the least amount of calories."
   ]
  },
  {
   "cell_type": "code",
   "execution_count": null,
   "id": "decd0536",
   "metadata": {},
   "outputs": [],
   "source": [
    "plt.scatter(breakfast_sort3[\"Name\"], breakfast_sort3[\"Calories\"])\n",
    "plt.xticks(rotation = 90)\n",
    "plt.show()"
   ]
  },
  {
   "cell_type": "markdown",
   "id": "2f253a2d",
   "metadata": {},
   "source": [
    "Scatter plot representing breakfast foods based on calories level, shown to have a negative trend. Foods like {sausage egg and cheese crossiant, belgian waffle, ham and cheddar scramble} appear to possess the most amount of calories. While foods like {breakfast potatoes, country ham, and blueberry compote} possess the least amount of calories."
   ]
  },
  {
   "cell_type": "code",
   "execution_count": null,
   "id": "15a88cb6",
   "metadata": {},
   "outputs": [],
   "source": [
    "best_breakfast = food[(food[\"Type\"]==\"Breakfast\") & (food[\"Carbohydrate (g)\"]<10) & (food[\"Protein (g)\"]>15)]\n",
    "best_breakfast"
   ]
  },
  {
   "cell_type": "markdown",
   "id": "de311554",
   "metadata": {},
   "source": [
    "A healthy diet normally consist of higher protein consumption, rather than carbs. The top 2 breakfast foods with high protein and low carb amounts is scrambled eggs with cream and butter and ham and cheese cheddar scramble. A healthy breakfast would normally consist an average intake of 300-400 calories, so 1-2 servings of these two food would suffice, as good breakfast options."
   ]
  },
  {
   "cell_type": "code",
   "execution_count": null,
   "id": "909ae96b",
   "metadata": {},
   "outputs": [],
   "source": [
    "lunch_dinner = food.loc[food[\"Type\"]==\"Lunch/Dinner\"]\n",
    "lunch_dinner"
   ]
  },
  {
   "cell_type": "markdown",
   "id": "5d97a1b5",
   "metadata": {},
   "source": [
    "All the different types of lunch/dinner foods served in SBU dining hall, with their corresponding nutriential values."
   ]
  },
  {
   "cell_type": "code",
   "execution_count": null,
   "id": "c252a372",
   "metadata": {
    "scrolled": true
   },
   "outputs": [],
   "source": [
    "ld_sort1 = lunch_dinner.sort_values(\"Protein (g)\", ascending=True)\n",
    "ld_sort1.tail()"
   ]
  },
  {
   "cell_type": "markdown",
   "id": "8b36aa2a",
   "metadata": {},
   "source": [
    "Top 5 lunch/dinner foods with the highest amount of protein, in grams."
   ]
  },
  {
   "cell_type": "code",
   "execution_count": null,
   "id": "080b3b48",
   "metadata": {},
   "outputs": [],
   "source": [
    "ld_sort1.head()"
   ]
  },
  {
   "cell_type": "markdown",
   "id": "434d6e91",
   "metadata": {},
   "source": [
    "Top 5 lunch/dinner foods with the least amount of proteins, in grams."
   ]
  },
  {
   "cell_type": "code",
   "execution_count": null,
   "id": "a92427da",
   "metadata": {},
   "outputs": [],
   "source": [
    "ld_sort2 = lunch_dinner.sort_values(\"Protein (g)\", ascending=True).tail(40)\n",
    "plt.plot(ld_sort2[\"Name\"], ld_sort2[\"Protein (g)\"])\n",
    "plt.xticks(rotation = 90)\n",
    "plt.show()"
   ]
  },
  {
   "cell_type": "markdown",
   "id": "bdc616f2",
   "metadata": {},
   "source": [
    "Line graph representing highest 40 lunch/dinner foods based on protein level, shown in a positive slope. Foods like {baked beef and cheese ziti, maple glazed pork, and chicken pot pie with potatoes} appear to have the least amount of proteins, among the top 40 most protein lunch/dinner foods. While foods like {chicken cordon bleu sandwich, grilled buffalo chicken sandwich, and katsu pork cutlet} have the most amount of proteins, among the top 40 most protein lunch/dinner foods.\n",
    "<br>\n",
    "Note: Data is subsetted into a smaller chunk, to show the names of all the foods in a clearler form. {original: 140 rows, now: 40 rows}"
   ]
  },
  {
   "cell_type": "code",
   "execution_count": null,
   "id": "9b667151",
   "metadata": {},
   "outputs": [],
   "source": [
    "ld_sort3 = lunch_dinner.sort_values(\"Protein (g)\", ascending=True).head(40)\n",
    "plt.plot(ld_sort3[\"Name\"], ld_sort3[\"Protein (g)\"])\n",
    "plt.xticks(rotation = 90)\n",
    "plt.show()"
   ]
  },
  {
   "cell_type": "markdown",
   "id": "2832f0c4",
   "metadata": {},
   "source": [
    "Line graph representing lowest 40 lunch/dinner foods based on protein level, shown to have a positive (stair-like) slope. Foods like {apple compote, mango pico de gallo, fried platains} appear to have the least amount of proteins, among the top 40 least protein lunch/dinner foods. While foods like {broccoli rice casserole, yellow rice, corn nuggets} have the most amount of proteins, among the top 40 least protein lunch/dinner foods.\n",
    "<br>\n",
    "Note: Data is subsetted into a smaller chunk, to show the names of all the foods in a clearler form. {original: 140 rows, now: 40 rows}"
   ]
  },
  {
   "cell_type": "code",
   "execution_count": null,
   "id": "217d247a",
   "metadata": {},
   "outputs": [],
   "source": [
    "ld_sort4 = lunch_dinner.sort_values(\"Carbohydrate (g)\", ascending=True)\n",
    "ld_sort4.tail()"
   ]
  },
  {
   "cell_type": "markdown",
   "id": "4bb37f00",
   "metadata": {},
   "source": [
    "Top 5 lunch/dinner foods with the highest amount of carbs, in grams."
   ]
  },
  {
   "cell_type": "code",
   "execution_count": null,
   "id": "3158b0c5",
   "metadata": {},
   "outputs": [],
   "source": [
    "ld_sort4.head()"
   ]
  },
  {
   "cell_type": "markdown",
   "id": "a744feb6",
   "metadata": {},
   "source": [
    "Top 5 lunch/dinner foods with the least amount of carbs, in grams."
   ]
  },
  {
   "cell_type": "code",
   "execution_count": null,
   "id": "ac5871f1",
   "metadata": {},
   "outputs": [],
   "source": [
    "ld_sort5 = lunch_dinner.sort_values(\"Carbohydrate (g)\", ascending=True).tail(40)\n",
    "plt.bar(ld_sort5[\"Name\"], ld_sort5[\"Carbohydrate (g)\"])\n",
    "plt.xticks(rotation = 90)\n",
    "plt.show()"
   ]
  },
  {
   "cell_type": "markdown",
   "id": "1d12db5a",
   "metadata": {},
   "source": [
    "Bar graph representing highest 40 lunch/dinner foods based on carb level, shown to have a positive trend. Foods like {creamy rigatoni alla vodka, puerto rican beef sancocho, and spinach and bacon alfredo pizza} appear to have the least amount of carbs, among the top 40 most carb lunch/dinner foods. While foods like {asian glazed tofu wrap, teriyaki black bean burger, and spicy black bean burger} have the most amount of carbs, among the top 40 most carb lunch/dinner foods.\n",
    "<br>\n",
    "Note: Data is subsetted into a smaller chunk, to show the names of all the foods in a clearler form. {original: 140 rows, now: 40 rows}"
   ]
  },
  {
   "cell_type": "code",
   "execution_count": null,
   "id": "1f28e7bb",
   "metadata": {},
   "outputs": [],
   "source": [
    "ld_sort6 = lunch_dinner.sort_values(\"Carbohydrate (g)\", ascending=True).head(40)\n",
    "plt.bar(ld_sort6[\"Name\"], ld_sort6[\"Carbohydrate (g)\"])\n",
    "plt.xticks(rotation = 90)\n",
    "plt.show()"
   ]
  },
  {
   "cell_type": "markdown",
   "id": "167dddd9",
   "metadata": {},
   "source": [
    "Bar graph representing lowest 40 lunch/dinner foods based on carb level, shown to have a positive trend. Foods like {buffalo chicken breast, roast beef with Au Jus, mustard and herb pork loin} appear to have the least amount of carbs, among the top 40 least carb lunch/dinner foods. Meanwhile foods like {pork medallions, potato kale soup, and broccoli cheese soup} have the most amount of carbs, among the top 40 least carb lunch/dinner foods.\n",
    "<br>\n",
    "Note: Data is subsetted into a smaller chunk, to show the names of all the foods in a clearler form. {original: 140 rows, now: 40 rows}"
   ]
  },
  {
   "cell_type": "code",
   "execution_count": null,
   "id": "6723acb1",
   "metadata": {},
   "outputs": [],
   "source": [
    "ld_sort7 = lunch_dinner.sort_values(\"Calories\", ascending=True)\n",
    "ld_sort7.tail()"
   ]
  },
  {
   "cell_type": "markdown",
   "id": "7e75da5a",
   "metadata": {},
   "source": [
    "Top 5 lunch/dinner foods with the highest amount of calories."
   ]
  },
  {
   "cell_type": "code",
   "execution_count": null,
   "id": "ae3fcf7b",
   "metadata": {},
   "outputs": [],
   "source": [
    "ld_sort7.head()"
   ]
  },
  {
   "cell_type": "markdown",
   "id": "f5fe8136",
   "metadata": {},
   "source": [
    "Top 5 lunch/dinner foods with the least amount of calories."
   ]
  },
  {
   "cell_type": "code",
   "execution_count": null,
   "id": "c63c563e",
   "metadata": {},
   "outputs": [],
   "source": [
    "ld_sort8 = lunch_dinner.sort_values(\"Calories\", ascending=True).tail(40)\n",
    "plt.scatter(ld_sort8[\"Name\"], ld_sort8[\"Calories\"])\n",
    "plt.xticks(rotation = 90)\n",
    "plt.show()"
   ]
  },
  {
   "cell_type": "markdown",
   "id": "f305e791",
   "metadata": {},
   "source": [
    "Scatter plot representing highest 40 lunch/dinner foods based on calories level, shown to have a positive trend. Foods like {chicken tikka masala, pepper jack chicken mac & cheese, and baked beef and cheese ziti} appear to have the least amount of calories, among the top 40 most calories lunch/dinner foods. While foods like {korean fried chicken, fried chicken tenders, and grilled buffalo chicken sandwich} have the most amount of calories, among the top 40 most calories lunch/dinner foods. \n",
    "<br>\n",
    "Note: Data is subsetted into a smaller chunk, to show the names of all the foods in a clearler form. {original: 140 rows, now: 40 rows}"
   ]
  },
  {
   "cell_type": "code",
   "execution_count": null,
   "id": "85db2f9c",
   "metadata": {},
   "outputs": [],
   "source": [
    "ld_sort9 = lunch_dinner.sort_values(\"Calories\", ascending=True).head(40)\n",
    "plt.scatter(ld_sort9[\"Name\"], ld_sort9[\"Calories\"])\n",
    "plt.xticks(rotation = 90)\n",
    "plt.show()"
   ]
  },
  {
   "cell_type": "markdown",
   "id": "2f44dcfe",
   "metadata": {},
   "source": [
    "Scatter plot representing lowest 40 lunch/dinner foods based on calories level, shown to have a positive trend. Foods like {steamed broccoli, mango pico de gallo, and greenbean saute} appear to have the least amount of calories, among the top 40 least calories lunch/dinner foods. While foods like {pepper and onion piza, jasmine rice, and dijon salmon} have the most amount of calories, among the top 40 least calories lunch/dinner foods. \n",
    "<br>\n",
    "Note: Data is subsetted into a smaller chunk, to show the names of all the foods in a clearler form. {original: 140 rows, now: 40 rows}"
   ]
  },
  {
   "cell_type": "code",
   "execution_count": null,
   "id": "53076ff0",
   "metadata": {},
   "outputs": [],
   "source": [
    "best_ld = food[(food[\"Type\"]==\"Lunch/Dinner\") & (food[\"Carbohydrate (g)\"]<30) & (food[\"Protein (g)\"]>35)]\n",
    "best_ld"
   ]
  },
  {
   "cell_type": "markdown",
   "id": "89dc1a32",
   "metadata": {},
   "source": [
    "A healthy diet normally consist of higher protein consumption, rather than carbs. The top 2 lunch/dinner foods with high protein and low carb amounts is roast beef with Au Jus and mustard and herb pork loin. A healthy lunch/dinner would normally consist an average intake of 500-700 calories each, so 2-3 servings of these two food would suffice, as good lunch/dinner options."
   ]
  },
  {
   "cell_type": "code",
   "execution_count": null,
   "id": "7b2fa003",
   "metadata": {},
   "outputs": [],
   "source": [
    "dessert = food.loc[food[\"Type\"]==\"Dessert\"]\n",
    "dessert"
   ]
  },
  {
   "cell_type": "markdown",
   "id": "4c7baf6c",
   "metadata": {},
   "source": [
    "All the different types of dessert foods served in SBU dining hall, with their corresponding nutriential values."
   ]
  },
  {
   "cell_type": "code",
   "execution_count": null,
   "id": "a870c60c",
   "metadata": {},
   "outputs": [],
   "source": [
    "dessert_sort1 = dessert.sort_values(\"Protein (g)\", ascending=False)\n",
    "dessert_sort1.head()"
   ]
  },
  {
   "cell_type": "markdown",
   "id": "5c624157",
   "metadata": {},
   "source": [
    "Top 5 desserts with the highest amount of protein, in grams."
   ]
  },
  {
   "cell_type": "code",
   "execution_count": null,
   "id": "27860511",
   "metadata": {},
   "outputs": [],
   "source": [
    "dessert_sort1.tail()"
   ]
  },
  {
   "cell_type": "markdown",
   "id": "e38d95a1",
   "metadata": {},
   "source": [
    "Top 5 dessert with the least amount of protein, in grams"
   ]
  },
  {
   "cell_type": "code",
   "execution_count": null,
   "id": "af5259b0",
   "metadata": {},
   "outputs": [],
   "source": [
    "plt.bar(dessert_sort1[\"Name\"], dessert_sort1[\"Protein (g)\"], color = \"r\")\n",
    "plt.xticks(rotation = 90)\n",
    "plt.show()"
   ]
  },
  {
   "cell_type": "markdown",
   "id": "ab17d7f4",
   "metadata": {},
   "source": [
    "Bar graph representing desserts based on protein level, in a descending fashion. Foods like {plain english muffin, thomas english muffin, and sesame mini bagel} appears to provide the most amount of protein. While foods like {blueberry scone, cranberry scone, and apple turnover danish mini} provide the least amount of protein."
   ]
  },
  {
   "cell_type": "code",
   "execution_count": null,
   "id": "499686b8",
   "metadata": {},
   "outputs": [],
   "source": [
    "dessert_sort2 = dessert.sort_values(\"Carbohydrate (g)\", ascending=False)\n",
    "dessert_sort2.head()"
   ]
  },
  {
   "cell_type": "markdown",
   "id": "887ab3c3",
   "metadata": {},
   "source": [
    "Top 5 desserts with the highest amount of carbs, in grams."
   ]
  },
  {
   "cell_type": "code",
   "execution_count": null,
   "id": "6fc9aa65",
   "metadata": {},
   "outputs": [],
   "source": [
    "dessert_sort2.tail()"
   ]
  },
  {
   "cell_type": "markdown",
   "id": "d705401e",
   "metadata": {},
   "source": [
    "Top 5 desserts with the least amount of carbs, in grams"
   ]
  },
  {
   "cell_type": "code",
   "execution_count": null,
   "id": "a0cde3d2",
   "metadata": {},
   "outputs": [],
   "source": [
    "plt.scatter(dessert_sort2[\"Name\"], dessert_sort2[\"Carbohydrate (g)\"])\n",
    "plt.xticks(rotation = 90)\n",
    "plt.show()"
   ]
  },
  {
   "cell_type": "markdown",
   "id": "112d585b",
   "metadata": {},
   "source": [
    "Scatter plot representing desserts based on carb level, shown in a negative trend. Foods like {blondie, cranberry mini muffin, chocolate chip mini muffin} appears to provide the most amount of carbs. While foods like {blueberry scone, cinnamon raisin scone, and apple turnover danish mini} provide the least amount of carbs."
   ]
  },
  {
   "cell_type": "code",
   "execution_count": null,
   "id": "316112cc",
   "metadata": {},
   "outputs": [],
   "source": [
    "dessert_sort3 = dessert.sort_values(\"Calories\", ascending=False)\n",
    "dessert_sort3.head()"
   ]
  },
  {
   "cell_type": "markdown",
   "id": "960ad89d",
   "metadata": {},
   "source": [
    "Top 5 desserts with the highest amount of calories."
   ]
  },
  {
   "cell_type": "code",
   "execution_count": null,
   "id": "c432dc52",
   "metadata": {},
   "outputs": [],
   "source": [
    "dessert_sort3.tail()"
   ]
  },
  {
   "cell_type": "markdown",
   "id": "048b90ab",
   "metadata": {},
   "source": [
    "Top 5 desserts with least amount of calories."
   ]
  },
  {
   "cell_type": "code",
   "execution_count": null,
   "id": "bd556e4b",
   "metadata": {},
   "outputs": [],
   "source": [
    "plt.plot(dessert_sort3[\"Name\"], dessert_sort3[\"Calories\"])\n",
    "plt.xticks(rotation = 90)\n",
    "plt.show()"
   ]
  },
  {
   "cell_type": "markdown",
   "id": "a1230c67",
   "metadata": {},
   "source": [
    "Line graph representing desserts based on calorie level, shown to have a negative slope. Foods like {blondie, chocolate chip mini muffin, cranberry mini muffin} appears to provide the most amount of calories. Meanwhile foods like {cinnamon raisin scone, cranberry scone, and blueberry scone} provide the least amount of calories."
   ]
  },
  {
   "cell_type": "code",
   "execution_count": null,
   "id": "c3dc49bb",
   "metadata": {},
   "outputs": [],
   "source": [
    "best_dessert = food[(food[\"Type\"]==\"Dessert\") & (food[\"Carbohydrate (g)\"]<26) & (food[\"Protein (g)\"]>3)]\n",
    "best_dessert"
   ]
  },
  {
   "cell_type": "markdown",
   "id": "43a554b1",
   "metadata": {},
   "source": [
    "Although desserst are normally not healthly and is high on sugar level. The top 2 desserts foods with high protein and low carb intake is poppy mini bagels and sesame mini bagels. A healthy level of dessert consumption would normally consist of an average intake of 100-200 calories, so 1-2 serving of these two food would suffice as a decent dessert meal, if one is craving dessert foods."
   ]
  },
  {
   "cell_type": "markdown",
   "id": "2422609f",
   "metadata": {},
   "source": [
    "Thoughts on future improvements: \n",
    "1. Have another subcategory determing the type of food whether its {meat, vegetable, or soup}, to see which vegetables, meat, and soup are best in mantaining a healthly diet. An ideal meal would have a healthy combination of all 3, while still fitting the criteria of having high protein, low carbs, and sufficent calories intake.\n",
    "2. Filter the data to find meal plans for vegetarians/vegans."
   ]
  }
 ],
 "metadata": {
  "kernelspec": {
   "display_name": "Python 3 (ipykernel)",
   "language": "python",
   "name": "python3"
  },
  "language_info": {
   "codemirror_mode": {
    "name": "ipython",
    "version": 3
   },
   "file_extension": ".py",
   "mimetype": "text/x-python",
   "name": "python",
   "nbconvert_exporter": "python",
   "pygments_lexer": "ipython3",
   "version": "3.12.4"
  }
 },
 "nbformat": 4,
 "nbformat_minor": 5
}
